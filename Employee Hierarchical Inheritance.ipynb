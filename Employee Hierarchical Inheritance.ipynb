{
 "cells": [
  {
   "cell_type": "code",
   "execution_count": 15,
   "metadata": {},
   "outputs": [
    {
     "ename": "AttributeError",
     "evalue": "'Developer' object has no attribute 'employees'",
     "output_type": "error",
     "traceback": [
      "\u001b[1;31m---------------------------------------------------------------------------\u001b[0m",
      "\u001b[1;31mAttributeError\u001b[0m                            Traceback (most recent call last)",
      "\u001b[1;32m<ipython-input-15-1d755ece3294>\u001b[0m in \u001b[0;36m<module>\u001b[1;34m\u001b[0m\n\u001b[0;32m     42\u001b[0m \u001b[0mdev_1\u001b[0m\u001b[1;33m=\u001b[0m\u001b[0mDeveloper\u001b[0m\u001b[1;33m(\u001b[0m\u001b[1;34m\"Soumyadip\"\u001b[0m\u001b[1;33m,\u001b[0m\u001b[1;34m\"Chowdhury\"\u001b[0m\u001b[1;33m,\u001b[0m\u001b[1;36m700000\u001b[0m\u001b[1;33m,\u001b[0m\u001b[1;34m\"Python\"\u001b[0m\u001b[1;33m)\u001b[0m\u001b[1;33m\u001b[0m\u001b[1;33m\u001b[0m\u001b[0m\n\u001b[0;32m     43\u001b[0m \u001b[0mdev_2\u001b[0m\u001b[1;33m=\u001b[0m\u001b[0mDeveloper\u001b[0m\u001b[1;33m(\u001b[0m\u001b[1;34m\"Soumyadip\"\u001b[0m\u001b[1;33m,\u001b[0m\u001b[1;34m\"Chowdhury\"\u001b[0m\u001b[1;33m,\u001b[0m\u001b[1;36m900000\u001b[0m\u001b[1;33m,\u001b[0m\u001b[1;34m\"JAVA\"\u001b[0m\u001b[1;33m)\u001b[0m\u001b[1;33m\u001b[0m\u001b[1;33m\u001b[0m\u001b[0m\n\u001b[1;32m---> 44\u001b[1;33m \u001b[0mprint\u001b[0m\u001b[1;33m(\u001b[0m\u001b[0mdev_1\u001b[0m\u001b[1;33m.\u001b[0m\u001b[0mprint\u001b[0m\u001b[1;33m(\u001b[0m\u001b[1;33m)\u001b[0m\u001b[1;33m)\u001b[0m\u001b[1;33m\u001b[0m\u001b[1;33m\u001b[0m\u001b[0m\n\u001b[0m\u001b[0;32m     45\u001b[0m \u001b[0mprint\u001b[0m\u001b[1;33m(\u001b[0m\u001b[0mdev_2\u001b[0m\u001b[1;33m.\u001b[0m\u001b[0mprint\u001b[0m\u001b[1;33m(\u001b[0m\u001b[1;33m)\u001b[0m\u001b[1;33m)\u001b[0m\u001b[1;33m\u001b[0m\u001b[1;33m\u001b[0m\u001b[0m\n\u001b[0;32m     46\u001b[0m \u001b[0mman_1\u001b[0m\u001b[1;33m=\u001b[0m\u001b[0mManager\u001b[0m\u001b[1;33m(\u001b[0m\u001b[1;34m\"Soumyadip\"\u001b[0m\u001b[1;33m,\u001b[0m\u001b[1;34m\"Chowdhury\"\u001b[0m\u001b[1;33m,\u001b[0m\u001b[1;36m700000\u001b[0m\u001b[1;33m,\u001b[0m\u001b[0mdev_1\u001b[0m\u001b[1;33m)\u001b[0m\u001b[1;33m\u001b[0m\u001b[1;33m\u001b[0m\u001b[0m\n",
      "\u001b[1;32m<ipython-input-15-1d755ece3294>\u001b[0m in \u001b[0;36mprint\u001b[1;34m(self)\u001b[0m\n\u001b[0;32m     15\u001b[0m \u001b[1;33m\u001b[0m\u001b[0m\n\u001b[0;32m     16\u001b[0m      \u001b[1;32mdef\u001b[0m \u001b[0mprint\u001b[0m\u001b[1;33m(\u001b[0m\u001b[0mself\u001b[0m\u001b[1;33m)\u001b[0m\u001b[1;33m:\u001b[0m\u001b[1;33m\u001b[0m\u001b[1;33m\u001b[0m\u001b[0m\n\u001b[1;32m---> 17\u001b[1;33m         \u001b[1;32mfor\u001b[0m \u001b[0mx\u001b[0m \u001b[1;32min\u001b[0m \u001b[0mself\u001b[0m\u001b[1;33m.\u001b[0m\u001b[0memployees\u001b[0m\u001b[1;33m:\u001b[0m\u001b[1;33m\u001b[0m\u001b[1;33m\u001b[0m\u001b[0m\n\u001b[0m\u001b[0;32m     18\u001b[0m             \u001b[0mprint\u001b[0m\u001b[1;33m(\u001b[0m\u001b[0mx\u001b[0m\u001b[1;33m)\u001b[0m\u001b[1;33m\u001b[0m\u001b[1;33m\u001b[0m\u001b[0m\n\u001b[0;32m     19\u001b[0m         \u001b[1;32mreturn\u001b[0m \u001b[1;34m\"Developer Overring : {} {} {} {} {}\"\u001b[0m\u001b[1;33m.\u001b[0m\u001b[0mformat\u001b[0m\u001b[1;33m(\u001b[0m\u001b[0mself\u001b[0m\u001b[1;33m.\u001b[0m\u001b[0mfirst\u001b[0m\u001b[1;33m,\u001b[0m\u001b[0mself\u001b[0m\u001b[1;33m.\u001b[0m\u001b[0mlast\u001b[0m\u001b[1;33m,\u001b[0m\u001b[0mself\u001b[0m\u001b[1;33m.\u001b[0m\u001b[0memail\u001b[0m\u001b[1;33m,\u001b[0m\u001b[0mself\u001b[0m\u001b[1;33m.\u001b[0m\u001b[0mpay\u001b[0m\u001b[1;33m,\u001b[0m\u001b[0mself\u001b[0m\u001b[1;33m.\u001b[0m\u001b[0mlang\u001b[0m\u001b[1;33m)\u001b[0m\u001b[1;33m\u001b[0m\u001b[1;33m\u001b[0m\u001b[0m\n",
      "\u001b[1;31mAttributeError\u001b[0m: 'Developer' object has no attribute 'employees'"
     ]
    }
   ],
   "source": [
    "class Employee:\n",
    "    \n",
    "    def __init__(self,f ,l ,p ):\n",
    "        self.first=f\n",
    "        self.last=l\n",
    "        self.email=f+\".\"+l+\"@python.com\"\n",
    "        self.pay=p\n",
    "        \n",
    "    def print(self):\n",
    "        return \"{} {} {} {}\".format(self.first,self.last,self.email,self.pay)\n",
    "\n",
    "    \n",
    "class Developer(Employee):\n",
    "    \n",
    "    \n",
    "     def print(self):\n",
    "        for x in range(len(a)): \n",
    "            printa[x],\n",
    "        return \"Developer Overring : {} {} {} {} {}\".format(self.first,self.last,self.email,self.pay,self.lang)\n",
    "    \n",
    "     def __init__(self,f ,l ,p ,lang ):\n",
    "        super().__init__(f,l,p)\n",
    "        self.lang=lang\n",
    "        \n",
    "class Manager(Employee):\n",
    "     \n",
    "    def print(self):\n",
    "        return \"Manager Overring : {} {} {} {} {}\".format(self.first,self.last,self.email,self.pay,self.employees)\n",
    "    \n",
    "    def __init__(self,f ,l ,p ,employees=None ):\n",
    "        super().__init__(f,l,p)\n",
    "        if employees is None:\n",
    "            self.employees=[]\n",
    "        else:\n",
    "            self.employees=employees\n",
    "    \n",
    "    def add(self, emp):\n",
    "       \n",
    "        if emp not in self.employees:\n",
    "            self.employees.append(emp)   \n",
    "            \n",
    "dev_1=Developer(\"Soumyadip\",\"Chowdhury\",700000,\"Python\")\n",
    "dev_2=Developer(\"Soumyadip\",\"Chowdhury\",900000,\"JAVA\")\n",
    "print(dev_1.print())\n",
    "print(dev_2.print())\n",
    "man_1=Manager(\"Soumyadip\",\"Chowdhury\",700000,dev_1)\n",
    "print(man_1.print())"
   ]
  }
 ],
 "metadata": {
  "kernelspec": {
   "display_name": "Python 3",
   "language": "python",
   "name": "python3"
  },
  "language_info": {
   "codemirror_mode": {
    "name": "ipython",
    "version": 3
   },
   "file_extension": ".py",
   "mimetype": "text/x-python",
   "name": "python",
   "nbconvert_exporter": "python",
   "pygments_lexer": "ipython3",
   "version": "3.7.4"
  }
 },
 "nbformat": 4,
 "nbformat_minor": 4
}
