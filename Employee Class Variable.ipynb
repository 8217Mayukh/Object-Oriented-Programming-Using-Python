{
 "cells": [
  {
   "cell_type": "code",
   "execution_count": 22,
   "metadata": {},
   "outputs": [
    {
     "name": "stdout",
     "output_type": "stream",
     "text": [
      "1.04\n",
      "1.04\n",
      "1.04\n",
      "{'first': 'Soumyadip', 'last': 'Chowdhury', 'email': 'Soumyadip.Chowdhury@python.com', 'pay': 900000}\n",
      "{'first': 'Soumyadip', 'last': 'Chowdhury', 'email': 'Soumyadip.Chowdhury@python.com', 'pay': 100000}\n",
      "Soumyadip Chowdhury Soumyadip.Chowdhury@python.com 900000\n",
      "Soumyadip Chowdhury Soumyadip.Chowdhury@python.com 100000\n"
     ]
    }
   ],
   "source": [
    "class Employee:\n",
    "    \n",
    "    raise_amount=1.04\n",
    "    \n",
    "    def __init__(self,f ,l ,p ):\n",
    "        self.first=f\n",
    "        self.last=l\n",
    "        self.email=f+\".\"+l+\"@python.com\"\n",
    "        self.pay=p\n",
    "        \n",
    "    def print(self):\n",
    "        return \"{} {} {} {}\".format(self.first,self.last,self.email,self.pay)\n",
    "   \n",
    "    def apply_raise(self):\n",
    "        self.pay=int(self.pay* self.raise_amount)\n",
    "    ## Can print using class,self and obj name    \n",
    "        \n",
    "emp_1=Employee(\"Soumyadip\",\"Chowdhury\",900000)\n",
    "emp_2=Employee(\"Soumyadip\",\"Chowdhury\",100000)\n",
    "\n",
    "print(Employee.raise_amount)\n",
    "print(emp_1.raise_amount)\n",
    "print(emp_2.raise_amount)\n",
    "\n",
    "\n",
    "print(Employee.__dict__)\n",
    "print(emp_1.__dict__)\n",
    "print(emp_2.__dict__)\n",
    "\n",
    "print(emp_1.print())\n",
    "print(emp_2.print())"
   ]
  },
  {
   "cell_type": "code",
   "execution_count": null,
   "metadata": {},
   "outputs": [],
   "source": []
  }
 ],
 "metadata": {
  "kernelspec": {
   "display_name": "Python 3",
   "language": "python",
   "name": "python3"
  },
  "language_info": {
   "codemirror_mode": {
    "name": "ipython",
    "version": 3
   },
   "file_extension": ".py",
   "mimetype": "text/x-python",
   "name": "python",
   "nbconvert_exporter": "python",
   "pygments_lexer": "ipython3",
   "version": "3.7.4"
  }
 },
 "nbformat": 4,
 "nbformat_minor": 4
}
